{
 "cells": [
  {
   "cell_type": "markdown",
   "id": "f42ce8c1",
   "metadata": {},
   "source": [
    "# Auto text complete Project\n",
    "\n",
    "#### A) N-gram description:\n",
    "An n-gram is a sequence of n items (numbers, characters, words) from some source. For example, the phrase “scoo be do be do be” contains the word-based 2-grams “scoo be” (once), “be do” (twice), and “do be” (twice). N-grams are used by computational linguists, biologists, and data compression experts in a multitude of ways. They can be especially useful in prediction models, where you have the start of a sequence of items and want to predict what is next—for example, when you text on your phone it might predict what word you want next as a shortcut.\n",
    "\n",
    "#### B) Project description:\n",
    "1-Write a Python script that asks the user for:\n",
    "- a value of n (of n-gram length)\n",
    "- a minimum n-gram frequency\n",
    "\n",
    "2-tracks the frequency of n-grams values from the input text. \n",
    "- reporting the results for the n-grams values and their frequency\n",
    "- plot the n-gram values top 10 frequencies \n",
    "\n",
    "3-create an auto text complete function:\n",
    "- ask the user to try the auto text complete function\n",
    "- allow the user to repeatedly enter a group of n words\n",
    "- report back the top three most likely words to show up after input and thier precentage\n",
    "\n",
    "\n",
    "#### C) User Input description:\n",
    "the script promtpts te user the following messeges \n",
    "- please enter an n-gram length\n",
    "- please enter the Minimum n-gram frequency\n",
    "- would you like to try the text auto complete function\n",
    "- please enter n words\n",
    "- would you like to try the text auto complete function again.\n",
    "\n",
    "#### D) Script Output description:\n",
    "the script returns the following:\n",
    "- n-gram values and frequencies table\n",
    "- top 10 n-gram values and frequencies plot\n",
    "- the top 3 most likely words and thier frequency for user input\n",
    "\n",
    "**Note**\n",
    "input text is a book sourced from this roylty free website https://www.gutenberg.org for analysis."
   ]
  },
  {
   "cell_type": "markdown",
   "id": "738988e1",
   "metadata": {},
   "source": [
    "### code breakdown:\n",
    "-  section 1: importing all relevent libraries\n",
    "-  section 2: read and clean text input\n",
    "- section 3: convert text into a list\n",
    "- section 4: ask user for input\n",
    "- section 5: word counter based on the N-gram input value\n",
    "- section 6: orgnize and filter the words counts\n",
    "- section 7: plot the top 10 frequencies\n",
    "- section 8: return the auto complete function results"
   ]
  },
  {
   "cell_type": "markdown",
   "id": "56379545",
   "metadata": {},
   "source": [
    "##### section 1: importing all relevent libraries"
   ]
  },
  {
   "cell_type": "code",
   "execution_count": 5,
   "id": "06deac10",
   "metadata": {},
   "outputs": [],
   "source": [
    "import numpy as np\n",
    "import pandas as pd\n",
    "import matplotlib.pyplot as plt\n",
    "\n",
    "%matplotlib inline"
   ]
  },
  {
   "cell_type": "markdown",
   "id": "29f87d04",
   "metadata": {},
   "source": [
    "##### section 2: read and clean text input\n",
    "- open file containing input text\n",
    "- read file content up to 100k set limit (can be increased)\n",
    "- remove all line break charachters in the file\n",
    "- store all non-empty lines into a varible\n",
    "- count the number of lines"
   ]
  },
  {
   "cell_type": "code",
   "execution_count": 6,
   "id": "fbe933c7",
   "metadata": {},
   "outputs": [],
   "source": [
    "with open('book.txt')as book:\n",
    "    paragraphText=''\n",
    "    counter= 1 # raw data line counter\n",
    "    counter_stored= 1 # stored non empty lines lines\n",
    "    while counter < 100000: # loop over a max of 100k line book or at the end of the txt\n",
    "        line= None\n",
    "        line =  book.readline()\n",
    "        #read line and add line into a string variable\n",
    "        #line break are removed\n",
    "        if line == '':\n",
    "            break\n",
    "        line= line.replace('\\n',' ')+' '\n",
    "        if line != '':\n",
    "        #empty lines are not added\n",
    "            #print(counter,line)\n",
    "            paragraphText += line # add line text\n",
    "        else:\n",
    "            None\n",
    "            #print('X',line) # ommit empty line\n",
    "        counter+=1\n",
    "#print(paragraphText)"
   ]
  },
  {
   "cell_type": "markdown",
   "id": "043ecf6b",
   "metadata": {},
   "source": [
    "##### section 3: convert text into a list\n",
    "- remove symbols from text\n",
    "- convert every word into a list element\n",
    "- store non empty words"
   ]
  },
  {
   "cell_type": "code",
   "execution_count": 62,
   "id": "d8d0feaa",
   "metadata": {},
   "outputs": [],
   "source": [
    "#turn every word in paragraphText into an element in paragraphList list\n",
    "#lower case and clean every elery word in the list\n",
    "\n",
    "stripCharachters= ['(',')',':' ,'?','.',',','@','\"',\"'\",'#','{','}','[',']','_','-','—','*','!','$','^',\"/\", \"\\\\\",'<','>','”', '“']\n",
    "\n",
    "for char in stripCharachters:\n",
    "    paragraphText = paragraphText.replace(char,\" \")\n",
    "\n",
    "rawParagraphList= paragraphText.split()\n",
    "\n",
    "paragraphList=[]\n",
    "for word in rawParagraphList:    \n",
    "    for char in stripCharachters:\n",
    "        word = word.replace(char,'')\n",
    "\n",
    "    if word != '':\n",
    "        paragraphList.append(word)"
   ]
  },
  {
   "cell_type": "markdown",
   "id": "cd1dbf13",
   "metadata": {},
   "source": [
    "##### section 4: ask user for input\n",
    "- ask user for N-gram value in int\n",
    "- ask user for minimum frequency\n",
    "- ask user to input word(s) to test the auto complete text function\n",
    "- each input has an error message for invalid input, and a function that re-ask the qustion again"
   ]
  },
  {
   "cell_type": "code",
   "execution_count": 63,
   "id": "241138b3",
   "metadata": {},
   "outputs": [
    {
     "name": "stdout",
     "output_type": "stream",
     "text": [
      "input the value of N to calculate the N-gram \n",
      "invalid literal for int() with base 10: ''\n",
      "please enter a number\n",
      "input the value of N to calculate the N-gram \n",
      "invalid literal for int() with base 10: ''\n",
      "please enter a number\n",
      "input the value of N to calculate the N-gram \n",
      "invalid literal for int() with base 10: ''\n",
      "please enter a number\n",
      "input the value of N to calculate the N-gram 3\n",
      "input the minimum count of a word 25\n",
      "please input a 2 word sentenceis the\n"
     ]
    }
   ],
   "source": [
    "while True:\n",
    "    try:\n",
    "        n=int(input('input the value of N to calculate the N-gram '))\n",
    "        break\n",
    "    except Exception as e:\n",
    "        print(e)\n",
    "        print('please enter a number')\n",
    "\n",
    "while True:\n",
    "    try:\n",
    "        count =int(input('input the minimum count of a word '))\n",
    "        break\n",
    "    except Exception as e:\n",
    "        print(e)\n",
    "        print('please enter a number')\n",
    "        \n",
    "while True:\n",
    "    try:\n",
    "        autoCompleteInput =str(input('please input a {} word sentence'.format(n-1)))\n",
    "        if len(autoCompleteInput.split()) == n-1:\n",
    "            break\n",
    "        else:\n",
    "            raise Exception('number of words doesn\\'t the required number')\n",
    "    except Exception as e:\n",
    "        print(e)\n",
    "        print('please enter a number')"
   ]
  },
  {
   "cell_type": "markdown",
   "id": "c8c0b8a4",
   "metadata": {},
   "source": [
    "##### section 5: word counter based on the N-gram input value\n",
    "- iterate over every element of the list except the last n-1 element* (parent loop)\n",
    "- for every word (wordIndex) add the next n words (child loop)\n",
    "- remove any extra spaces or characters\n",
    "- if the word sequence exisit in (gramCountDict) dictionary increase its count by 1\n",
    "- if the word sequence doesnt exisit in (gramCountDict) dictionary set its count to 1 \n",
    "       \n",
    "       \n",
    "       \n",
    "**Note * explanition:** for an N-gram value of 2 each 2-gram requires adding 2 consequtive words from the list of words;\n",
    "   However, the last element will not find another element to add to;\n",
    "   thus, adding the element before the last with the last element and stoping at the (last index - (n-1) )"
   ]
  },
  {
   "cell_type": "code",
   "execution_count": 64,
   "id": "182e3131",
   "metadata": {},
   "outputs": [],
   "source": [
    "gramCountDict= {}\n",
    "\n",
    "for wordIndex in range(len(paragraphList)-(n-1)):\n",
    "    gram= ''\n",
    "    for word in range(n):\n",
    "        gram+= paragraphList[wordIndex+(word)]+ ' '\n",
    "    gram= gram.strip()\n",
    "    if gram in gramCountDict.keys():\n",
    "        gramCountDict[gram]+=1\n",
    "    else:\n",
    "        gramCountDict[gram]=1\n"
   ]
  },
  {
   "cell_type": "markdown",
   "id": "635a0afd",
   "metadata": {},
   "source": [
    "##### section 6: orgnize and filter the words counts\n",
    "- create a table that holds all the data\n",
    "- sort the data by frequency in descending order\n",
    "- filter the data to show only frequencies the user has specified"
   ]
  },
  {
   "cell_type": "code",
   "execution_count": 65,
   "id": "5c3b9429",
   "metadata": {},
   "outputs": [],
   "source": [
    "GramKeys = np.array(list(gramCountDict.keys()))\n",
    "GramFrequency= np.array(list(gramCountDict.values()))\n",
    "df=  pd.DataFrame(data= {'values':GramKeys, 'frequency':GramFrequency})\n",
    "df.sort_values(by=['frequency'.format(n)] , ascending=False, inplace=True)\n",
    "dfCount= df[df['frequency'] >= count]"
   ]
  },
  {
   "cell_type": "markdown",
   "id": "8dbce4a6",
   "metadata": {},
   "source": [
    "##### section 7: plot the top 10 frequencies"
   ]
  },
  {
   "cell_type": "code",
   "execution_count": 66,
   "id": "64fe452b",
   "metadata": {
    "scrolled": true
   },
   "outputs": [
    {
     "data": {
      "image/png": "[encoded data removed]",
      "text/plain": [
       "<Figure size 4320x720 with 1 Axes>"
      ]
     },
     "metadata": {
      "needs_background": "light"
     },
     "output_type": "display_data"
    }
   ],
   "source": [
    "plt.figure(figsize= (60,10))\n",
    "plt.subplot(132)\n",
    "plt.bar(df['values'].head(10), df['frequency'].head(10))\n",
    "plt.subplot(132)\n",
    "plt.scatter(df['values'].head(10), df['frequency'].head(10))\n",
    "plt.subplot(132)\n",
    "plt.plot(df['values'].head(10), df['frequency'].head(10))\n",
    "plt.suptitle('{}-gram count'.format(n))\n",
    "plt.xlabel('word',fontsize= 15)\n",
    "plt.ylabel('frequency', fontsize= 15)\n",
    "plt.show()"
   ]
  },
  {
   "cell_type": "markdown",
   "id": "2a1fa77f",
   "metadata": {},
   "source": [
    "##### section 8: return the auto complete function results\n",
    "- return the word sequences matching the user input\n",
    "- calculate the presentages of these values\n",
    "- return a table with all the possible word sequence predictions and their precentages\n",
    "- create a plot for visulization"
   ]
  },
  {
   "cell_type": "code",
   "execution_count": 72,
   "id": "b39b5e64",
   "metadata": {},
   "outputs": [],
   "source": [
    "topValues = df[df['values'].str[:len(autoCompleteInput)] == autoCompleteInput]\n",
    "frequencyList=  topValues['frequency']\n",
    "totalFrequency = sum(frequencyList)\n",
    "precentageList = (frequencyList/totalFrequency)*100"
   ]
  },
  {
   "cell_type": "code",
   "execution_count": 73,
   "id": "50316bd7",
   "metadata": {
    "scrolled": true
   },
   "outputs": [
    {
     "data": {
      "text/html": [
       "<div>\n",
       "<style scoped>\n",
       "    .dataframe tbody tr th:only-of-type {\n",
       "        vertical-align: middle;\n",
       "    }\n",
       "\n",
       "    .dataframe tbody tr th {\n",
       "        vertical-align: top;\n",
       "    }\n",
       "\n",
       "    .dataframe thead th {\n",
       "        text-align: right;\n",
       "    }\n",
       "</style>\n",
       "<table border=\"1\" class=\"dataframe\">\n",
       "  <thead>\n",
       "    <tr style=\"text-align: right;\">\n",
       "      <th></th>\n",
       "      <th>Values</th>\n",
       "      <th>precentageList</th>\n",
       "    </tr>\n",
       "  </thead>\n",
       "  <tbody>\n",
       "    <tr>\n",
       "      <th>54615</th>\n",
       "      <td>is the established</td>\n",
       "      <td>3.1250</td>\n",
       "    </tr>\n",
       "    <tr>\n",
       "      <th>2729</th>\n",
       "      <td>is the question</td>\n",
       "      <td>3.1250</td>\n",
       "    </tr>\n",
       "    <tr>\n",
       "      <th>21786</th>\n",
       "      <td>is the matter</td>\n",
       "      <td>3.1250</td>\n",
       "    </tr>\n",
       "    <tr>\n",
       "      <th>1465</th>\n",
       "      <td>is the most</td>\n",
       "      <td>3.1250</td>\n",
       "    </tr>\n",
       "    <tr>\n",
       "      <th>1561</th>\n",
       "      <td>is the nature</td>\n",
       "      <td>3.1250</td>\n",
       "    </tr>\n",
       "    <tr>\n",
       "      <th>44461</th>\n",
       "      <td>is the cause</td>\n",
       "      <td>1.5625</td>\n",
       "    </tr>\n",
       "    <tr>\n",
       "      <th>43930</th>\n",
       "      <td>is the very</td>\n",
       "      <td>1.5625</td>\n",
       "    </tr>\n",
       "    <tr>\n",
       "      <th>42429</th>\n",
       "      <td>is their true</td>\n",
       "      <td>1.5625</td>\n",
       "    </tr>\n",
       "    <tr>\n",
       "      <th>43082</th>\n",
       "      <td>is the accompaniment</td>\n",
       "      <td>1.5625</td>\n",
       "    </tr>\n",
       "    <tr>\n",
       "      <th>42742</th>\n",
       "      <td>is the education</td>\n",
       "      <td>1.5625</td>\n",
       "    </tr>\n",
       "  </tbody>\n",
       "</table>\n",
       "</div>"
      ],
      "text/plain": [
       "                     Values  precentageList\n",
       "54615    is the established          3.1250\n",
       "2729        is the question          3.1250\n",
       "21786         is the matter          3.1250\n",
       "1465            is the most          3.1250\n",
       "1561          is the nature          3.1250\n",
       "44461          is the cause          1.5625\n",
       "43930           is the very          1.5625\n",
       "42429         is their true          1.5625\n",
       "43082  is the accompaniment          1.5625\n",
       "42742      is the education          1.5625"
      ]
     },
     "execution_count": 73,
     "metadata": {},
     "output_type": "execute_result"
    }
   ],
   "source": [
    "dfP = pd.DataFrame(data= {'Values': topValues['values'], 'precentageList': precentageList}).head(10)\n",
    "dfP"
   ]
  },
  {
   "cell_type": "code",
   "execution_count": 74,
   "id": "c589b58b",
   "metadata": {},
   "outputs": [
    {
     "data": {
      "image/png": "[encoded data removed]",
      "text/plain": [
       "<Figure size 4320x720 with 1 Axes>"
      ]
     },
     "metadata": {
      "needs_background": "light"
     },
     "output_type": "display_data"
    }
   ],
   "source": [
    "plt.figure(figsize= (60,10))\n",
    "\n",
    "plt.subplot(132)\n",
    "plt.bar(dfP['Values'],dfP['precentageList'])\n",
    "\n",
    "plt.suptitle('{}-gram count'.format(n))\n",
    "plt.xlabel('word',fontsize= 15)\n",
    "plt.ylabel('frequency', fontsize= 15)\n",
    "plt.show()"
   ]
  }
 ],
 "metadata": {
  "kernelspec": {
   "display_name": "Python 3 (ipykernel)",
   "language": "python",
   "name": "python3"
  },
  "language_info": {
   "codemirror_mode": {
    "name": "ipython",
    "version": 3
   },
   "file_extension": ".py",
   "mimetype": "text/x-python",
   "name": "python",
   "nbconvert_exporter": "python",
   "pygments_lexer": "ipython3",
   "version": "3.9.12"
  }
 },
 "nbformat": 4,
 "nbformat_minor": 5
}
