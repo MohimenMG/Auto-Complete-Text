{
  "nbformat": 4,
  "nbformat_minor": 0,
  "metadata": {
    "colab": {
      "provenance": [],
      "authorship_tag": "ABX9TyN05TgvuK8XwAMjStdwbaBO",
      "include_colab_link": true
    },
    "kernelspec": {
      "name": "python3",
      "display_name": "Python 3"
    },
    "language_info": {
      "name": "python"
    }
  },
  "cells": [
    {
      "cell_type": "markdown",
      "metadata": {
        "id": "view-in-github",
        "colab_type": "text"
      },
      "source": [
        "<a href=\"https://colab.research.google.com/github/MohimenMG/Auto-Complete-Text/blob/master/Connect%2C_Explore%2C_and_Import_Mongdatabase.ipynb\" target=\"_parent\"><img src=\"https://colab.research.google.com/assets/colab-badge.svg\" alt=\"Open In Colab\"/></a>"
      ]
    },
    {
      "cell_type": "markdown",
      "source": [
        "# Connect, Explor, and import MongoDB"
      ],
      "metadata": {
        "id": "c1ZIWG2kOrB2"
      }
    },
    {
      "cell_type": "markdown",
      "source": [
        "### Mongo database elements\n",
        "- Mongo server require an address to connect ('URL', 'localhost')\n",
        "- Mongo servers may contain multiple databases (database)\n",
        "- each data base contains multiple collections (table)\n",
        "- each collection contains multiple doucuments (rows)"
      ],
      "metadata": {
        "id": "ewGGCA9BIuXY"
      }
    },
    {
      "cell_type": "markdown",
      "source": [
        "### BSON, JSON, and Dictionaries:\n",
        "- `Dictionaries:` python data structure support all python data types with structure {key: value} all key values must be unique.\n",
        "\n",
        "- `JSON:` flexible data structure support limited data types with structure {key: value} keys don't have to be unique\n",
        "\n",
        "- `BSON:` stands for Binary JSON. \n",
        "    - MongoDB stores data in BSON format both internally, and over the network. Anything you can represent in JSON can be natively stored in MongoDB, and retrieved just as easily in JSON.\n",
        "    - BSON’s binary structure encodes type and length information, which allows it to be traversed much more quickly compared to JSON.\n",
        "    - BSON adds some non-JSON-native data types, like dates and binary data, without which MongoDB would have been missing some valuable support. \n",
        "    - MongoDB uses BSON to offer powerful indexing and querying features on top of the data format."
      ],
      "metadata": {
        "id": "qf1c_IFpIxhH"
      }
    },
    {
      "cell_type": "markdown",
      "source": [
        "### workflow\n",
        "0. **Import pymongo**\n",
        "  ```python\n",
        "  from pprint import PrettyPrinter\n",
        "  pp = PrettyPrinter(indent= 3) # improves Json readability\n",
        "  import datetime\n",
        "\n",
        "  import pandas as pd\n",
        "  from pymongo import MongoClient\n",
        "  ```\n",
        "\n",
        "1. **connect to Mongo client:** \n",
        "  ```python\n",
        "  MongoClient('URL')\n",
        "  ```\n",
        "\n",
        "2. **list databases:** \n",
        "  ```python\n",
        "  MongoClient().list_databases()\n",
        "  ```\n",
        "3. **choose the database:** \n",
        "  ```python\n",
        "  MongoClient() ['database']\n",
        "  ```\n",
        "4. **list collections in the database:** \n",
        "  ```python\n",
        "  MongoClient() ['database'].list_collections()\n",
        "  ```\n",
        "5. **choose a collection:** \n",
        "  ```python\n",
        "  MongoClient() ['database']['collection']\n",
        "  ```  \n",
        "6. **examine a document:**  \n",
        "  ```python\n",
        "  MongoClient() ['database']['collection'] .find_one({})\n",
        "  ```\n",
        "7. **explore document values using aggregations:**\n",
        "\n",
        "    ```python\n",
        "    collection = MongoClient()['database']['collection']\n",
        "    collection.count_document( {'key': document value})\n",
        "    \n",
        "    #'$match' filter collection by selected key value\n",
        "    #'$group' counts for every unique value\n",
        "    collection.aggregate([\n",
        "    {'$match': {'document_key': value} },\n",
        "    {'$group': {'_id': '$document_key', 'count':{'$count':{}}}} \n",
        "    ]) \n",
        "    ```\n",
        "    \n",
        "8. **filter data**\n",
        "    \n",
        "    ```python\n",
        "    # filter collection to return all values that satisfy document_key values\n",
        "    #projection control output columns 0 removes the primary key column from the output\n",
        "    data = collection.find(\n",
        "    {'document_key_1': value,\n",
        "    'document_key_2': value,\n",
        "    'document_key_3': {'$gte': datetime.datetime(yyyy, mm,dd) }} \n",
        "    projection= {'document_key_1' :1, 'document_key_2', 'document_key_3', '_id':0} \n",
        "    )\n",
        "    ```\n",
        "    \n",
        "    \n",
        "9. **import data**\n",
        "    ```python\n",
        "    df = pd.DataFrame(list(data)).set_index('time series column name')\n",
        "    \n",
        "    ```\n",
        "     "
      ],
      "metadata": {
        "id": "fbQ44FQFIxI4"
      }
    }
  ]
}